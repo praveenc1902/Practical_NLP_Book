{
  "nbformat": 4,
  "nbformat_minor": 0,
  "metadata": {
    "colab": {
      "provenance": []
    },
    "kernelspec": {
      "name": "python3",
      "display_name": "Python 3"
    },
    "language_info": {
      "name": "python"
    }
  },
  "cells": [
    {
      "cell_type": "code",
      "source": [
        "!pip install nltk"
      ],
      "metadata": {
        "colab": {
          "base_uri": "https://localhost:8080/"
        },
        "id": "isutUEWvzoc8",
        "outputId": "72eb7cf5-2ff7-4513-f94f-e347d6b05f96"
      },
      "execution_count": 1,
      "outputs": [
        {
          "output_type": "stream",
          "name": "stdout",
          "text": [
            "Requirement already satisfied: nltk in /usr/local/lib/python3.10/dist-packages (3.8.1)\n",
            "Requirement already satisfied: click in /usr/local/lib/python3.10/dist-packages (from nltk) (8.1.7)\n",
            "Requirement already satisfied: joblib in /usr/local/lib/python3.10/dist-packages (from nltk) (1.3.2)\n",
            "Requirement already satisfied: regex>=2021.8.3 in /usr/local/lib/python3.10/dist-packages (from nltk) (2023.6.3)\n",
            "Requirement already satisfied: tqdm in /usr/local/lib/python3.10/dist-packages (from nltk) (4.66.1)\n"
          ]
        }
      ]
    },
    {
      "cell_type": "code",
      "source": [
        "from nltk.tokenize import sent_tokenize, word_tokenize"
      ],
      "metadata": {
        "id": "TbRjRAWJ7e2t"
      },
      "execution_count": 2,
      "outputs": []
    },
    {
      "cell_type": "code",
      "source": [
        "text = \"\"\"\n",
        "Elon Reeve Musk (/ˈiːlɒn/ EE-lon; born June 28, 1971) is a businessman, and investor. Musk is the founder, chairman, CEO and chief technology officer of SpaceX; angel investor, CEO, product architect and former chairman of Tesla, Inc.; owner, chairman and CTO of X Corp.; founder of the Boring Company and xAI; co-founder of Neuralink and OpenAI; and president of the Musk Foundation. He is the wealthiest person in the world, with an estimated net worth of US$211 billion as of October 2023, according to the Bloomberg Billionaires Index, and $234 billion according to Forbes, primarily from his ownership stakes in Tesla and SpaceX.\n",
        "\"\"\""
      ],
      "metadata": {
        "id": "MGKxr9_L7nSO"
      },
      "execution_count": 3,
      "outputs": []
    },
    {
      "cell_type": "code",
      "source": [
        "import nltk\n",
        "nltk.download('punkt')"
      ],
      "metadata": {
        "colab": {
          "base_uri": "https://localhost:8080/"
        },
        "id": "UssjcklT8DxL",
        "outputId": "fab0d366-c6e0-491c-8123-7372cf2f0931"
      },
      "execution_count": 4,
      "outputs": [
        {
          "output_type": "stream",
          "name": "stderr",
          "text": [
            "[nltk_data] Downloading package punkt to /root/nltk_data...\n",
            "[nltk_data]   Unzipping tokenizers/punkt.zip.\n"
          ]
        },
        {
          "output_type": "execute_result",
          "data": {
            "text/plain": [
              "True"
            ]
          },
          "metadata": {},
          "execution_count": 4
        }
      ]
    },
    {
      "cell_type": "code",
      "source": [
        "sent = sent_tokenize(text)"
      ],
      "metadata": {
        "id": "Q9hZRI3-71mp"
      },
      "execution_count": 5,
      "outputs": []
    },
    {
      "cell_type": "code",
      "source": [
        "for a in sent:\n",
        "  print(word_tokenize(a))"
      ],
      "metadata": {
        "colab": {
          "base_uri": "https://localhost:8080/"
        },
        "id": "U86FKDGl78Eg",
        "outputId": "a98c4028-1f68-44eb-d9eb-eb82e5326dcd"
      },
      "execution_count": 6,
      "outputs": [
        {
          "output_type": "stream",
          "name": "stdout",
          "text": [
            "['Elon', 'Reeve', 'Musk', '(', '/ˈiːlɒn/', 'EE-lon', ';', 'born', 'June', '28', ',', '1971', ')', 'is', 'a', 'businessman', ',', 'and', 'investor', '.']\n",
            "['Musk', 'is', 'the', 'founder', ',', 'chairman', ',', 'CEO', 'and', 'chief', 'technology', 'officer', 'of', 'SpaceX', ';', 'angel', 'investor', ',', 'CEO', ',', 'product', 'architect', 'and', 'former', 'chairman', 'of', 'Tesla', ',', 'Inc.', ';', 'owner', ',', 'chairman', 'and', 'CTO', 'of', 'X', 'Corp.', ';', 'founder', 'of', 'the', 'Boring', 'Company', 'and', 'xAI', ';', 'co-founder', 'of', 'Neuralink', 'and', 'OpenAI', ';', 'and', 'president', 'of', 'the', 'Musk', 'Foundation', '.']\n",
            "['He', 'is', 'the', 'wealthiest', 'person', 'in', 'the', 'world', ',', 'with', 'an', 'estimated', 'net', 'worth', 'of', 'US', '$', '211', 'billion', 'as', 'of', 'October', '2023', ',', 'according', 'to', 'the', 'Bloomberg', 'Billionaires', 'Index', ',', 'and', '$', '234', 'billion', 'according', 'to', 'Forbes', ',', 'primarily', 'from', 'his', 'ownership', 'stakes', 'in', 'Tesla', 'and', 'SpaceX', '.']\n"
          ]
        }
      ]
    },
    {
      "cell_type": "code",
      "source": [
        "from nltk.corpus import stopwords\n",
        "from string import punctuation\n",
        "nltk.download('stopwords')"
      ],
      "metadata": {
        "colab": {
          "base_uri": "https://localhost:8080/"
        },
        "id": "JpyAmX9Ltwq9",
        "outputId": "368fb691-df09-4a3a-bc21-a968755ceeb4"
      },
      "execution_count": 9,
      "outputs": [
        {
          "output_type": "stream",
          "name": "stderr",
          "text": [
            "[nltk_data] Downloading package stopwords to /root/nltk_data...\n",
            "[nltk_data]   Unzipping corpora/stopwords.zip.\n"
          ]
        },
        {
          "output_type": "execute_result",
          "data": {
            "text/plain": [
              "True"
            ]
          },
          "metadata": {},
          "execution_count": 9
        }
      ]
    },
    {
      "cell_type": "code",
      "source": [
        "mystopwords = set(stopwords.words(\"english\"))"
      ],
      "metadata": {
        "id": "i0hhlBZ3t8cP"
      },
      "execution_count": 10,
      "outputs": []
    },
    {
      "cell_type": "code",
      "source": [
        "print(mystopwords)"
      ],
      "metadata": {
        "colab": {
          "base_uri": "https://localhost:8080/"
        },
        "id": "Op6or8jEuFZ5",
        "outputId": "ec03d8a4-35fa-406d-97d4-b44118622bb7"
      },
      "execution_count": 13,
      "outputs": [
        {
          "output_type": "stream",
          "name": "stdout",
          "text": [
            "{'we', 'by', 'below', 'will', 'why', 'ma', 'other', 'yourselves', \"shan't\", \"weren't\", 'them', 'my', 'having', 'hasn', \"hasn't\", 'shouldn', \"that'll\", 'off', 'too', 'above', \"you've\", 'own', 'just', \"isn't\", \"shouldn't\", 'it', 'haven', 'is', 'yours', 'm', 'down', 'further', 'between', 'each', 'few', 'themselves', \"mightn't\", 'if', 'theirs', 'out', 've', 'mightn', 'until', 'myself', 'do', 'about', 'd', \"didn't\", \"wasn't\", 'nor', 'after', 'doesn', \"wouldn't\", \"haven't\", 'now', 'doing', 'against', 'am', 'herself', 'she', 'couldn', 'has', \"you'd\", 'with', 'from', 'where', 'your', 'more', 'very', \"needn't\", 'their', 'only', 'over', 'at', 're', 'they', 'those', 'wouldn', 'that', 'of', 'ours', 'than', 'does', 'yourself', 'll', 'our', 'ourselves', \"should've\", 'whom', 'hadn', \"won't\", 'weren', 'these', 'being', 'here', 't', 'o', 'needn', 'same', 'but', 'so', 'the', 'in', 'who', 'on', 'didn', 'how', 'through', 'this', 'ain', 'as', 'himself', 'y', 'to', 'he', 'what', 'because', 'i', 'again', 'while', 'and', 'for', 'itself', 'during', 'some', \"couldn't\", \"it's\", 'any', \"doesn't\", 'not', 'should', 'had', 'been', 'all', 'were', 'are', \"mustn't\", 'isn', 'don', 'aren', \"aren't\", 'a', \"she's\", 'his', 'before', 'no', 'when', 'hers', 'mustn', 'can', 'me', \"you'll\", 'did', 'him', 'up', 'then', \"don't\", 'which', 'most', \"you're\", \"hadn't\", 'an', 'have', 'won', 'once', 'into', 'was', 'there', 'such', 'you', 'her', 'or', 'both', 'its', 's', 'under', 'be', 'shan', 'wasn'}\n"
          ]
        }
      ]
    },
    {
      "cell_type": "code",
      "source": [
        "l = []\n",
        "for line in sent:\n",
        "  # print(line)\n",
        "  for token in word_tokenize(line):\n",
        "    # print(token)\n",
        "    if token not in mystopwords and not token.isdigit() and token not in punctuation:\n",
        "      l.append(token)\n",
        "\n",
        "print(\" \".join(l))\n",
        "\n"
      ],
      "metadata": {
        "colab": {
          "base_uri": "https://localhost:8080/"
        },
        "id": "vNdWvJMfuM0c",
        "outputId": "a7a967f4-e4a1-4d3e-dd39-5df15761f852"
      },
      "execution_count": 17,
      "outputs": [
        {
          "output_type": "stream",
          "name": "stdout",
          "text": [
            "Elon Reeve Musk /ˈiːlɒn/ EE-lon born June businessman investor Musk founder chairman CEO chief technology officer SpaceX angel investor CEO product architect former chairman Tesla Inc. owner chairman CTO X Corp. founder Boring Company xAI co-founder Neuralink OpenAI president Musk Foundation He wealthiest person world estimated net worth US billion October according Bloomberg Billionaires Index billion according Forbes primarily ownership stakes Tesla SpaceX\n"
          ]
        }
      ]
    },
    {
      "cell_type": "code",
      "source": [
        "from nltk.stem.porter import PorterStemmer\n",
        "stemmer = PorterStemmer()\n",
        "print(stemmer.stem('cars'))"
      ],
      "metadata": {
        "colab": {
          "base_uri": "https://localhost:8080/"
        },
        "id": "HHLEcLEQy8ND",
        "outputId": "7eb85b79-17cb-4177-f423-5eddc768dc73"
      },
      "execution_count": 18,
      "outputs": [
        {
          "output_type": "stream",
          "name": "stdout",
          "text": [
            "car\n"
          ]
        }
      ]
    },
    {
      "cell_type": "code",
      "source": [
        "stemmer.stem('better')"
      ],
      "metadata": {
        "colab": {
          "base_uri": "https://localhost:8080/",
          "height": 35
        },
        "id": "9kXu4UWDzNZG",
        "outputId": "73c5df14-d2f0-40d2-c014-ff6802f3a55d"
      },
      "execution_count": 19,
      "outputs": [
        {
          "output_type": "execute_result",
          "data": {
            "text/plain": [
              "'better'"
            ],
            "application/vnd.google.colaboratory.intrinsic+json": {
              "type": "string"
            }
          },
          "metadata": {},
          "execution_count": 19
        }
      ]
    },
    {
      "cell_type": "code",
      "source": [
        "stemmer.stem('responsibility')"
      ],
      "metadata": {
        "colab": {
          "base_uri": "https://localhost:8080/",
          "height": 35
        },
        "id": "v5BxmU5jzSIB",
        "outputId": "6761c2a1-f4a0-4f4b-d13e-9d9d4e642878"
      },
      "execution_count": 20,
      "outputs": [
        {
          "output_type": "execute_result",
          "data": {
            "text/plain": [
              "'respons'"
            ],
            "application/vnd.google.colaboratory.intrinsic+json": {
              "type": "string"
            }
          },
          "metadata": {},
          "execution_count": 20
        }
      ]
    },
    {
      "cell_type": "code",
      "source": [
        "#Lemmatization"
      ],
      "metadata": {
        "id": "mR5mu_zozYX3"
      },
      "execution_count": 21,
      "outputs": []
    },
    {
      "cell_type": "code",
      "source": [
        "from nltk.stem import WordNetLemmatizer\n",
        "lemma = WordNetLemmatizer()\n",
        "nltk.download('wordnet')"
      ],
      "metadata": {
        "colab": {
          "base_uri": "https://localhost:8080/"
        },
        "id": "5WAu7kNozcJo",
        "outputId": "17417957-ac35-4e1d-bac0-372ed72c6965"
      },
      "execution_count": 24,
      "outputs": [
        {
          "output_type": "stream",
          "name": "stderr",
          "text": [
            "[nltk_data] Downloading package wordnet to /root/nltk_data...\n"
          ]
        },
        {
          "output_type": "execute_result",
          "data": {
            "text/plain": [
              "True"
            ]
          },
          "metadata": {},
          "execution_count": 24
        }
      ]
    },
    {
      "cell_type": "code",
      "source": [
        "print(lemma.lemmatize('good'))"
      ],
      "metadata": {
        "colab": {
          "base_uri": "https://localhost:8080/"
        },
        "id": "PoS8QNnRz9aW",
        "outputId": "9f3889d0-b00e-4a19-ad5a-60a76eec3241"
      },
      "execution_count": 27,
      "outputs": [
        {
          "output_type": "stream",
          "name": "stdout",
          "text": [
            "good\n"
          ]
        }
      ]
    },
    {
      "cell_type": "code",
      "source": [
        "print(lemma.lemmatize('superb'))"
      ],
      "metadata": {
        "colab": {
          "base_uri": "https://localhost:8080/"
        },
        "id": "Rnzj9GVsz91-",
        "outputId": "35851412-d469-4254-cb9b-6f6b075c6468"
      },
      "execution_count": 26,
      "outputs": [
        {
          "output_type": "stream",
          "name": "stdout",
          "text": [
            "superb\n"
          ]
        }
      ]
    },
    {
      "cell_type": "code",
      "source": [
        "import spacy\n",
        "nlp = spacy.load('en_core_web_sm')\n",
        "text = nlp('Hi there I am better now')\n",
        "for token in text:\n",
        "  print(token.text, token.lemma_)"
      ],
      "metadata": {
        "colab": {
          "base_uri": "https://localhost:8080/"
        },
        "id": "bt9TxJYO0Ie0",
        "outputId": "17bca1e7-1c0d-442a-fad1-ff01a29d819f"
      },
      "execution_count": 29,
      "outputs": [
        {
          "output_type": "stream",
          "name": "stdout",
          "text": [
            "Hi hi\n",
            "there there\n",
            "I I\n",
            "am be\n",
            "better well\n",
            "now now\n"
          ]
        }
      ]
    },
    {
      "cell_type": "code",
      "source": [
        "#Text Normalization\n",
        "# https://www.newscatcherapi.com/blog/spacy-vs-nltk-text-normalization-comparison-with-code-examples"
      ],
      "metadata": {
        "id": "1TJQTbSs0smB"
      },
      "execution_count": 30,
      "outputs": []
    },
    {
      "cell_type": "code",
      "source": [
        "import spacy\n",
        "nlp = spacy.load('en_core_web_sm')\n",
        "doc = nlp(\"\"\" Musk was born in Pretoria, South Africa, and briefly attended the University of Pretoria\n",
        " before immigrating to Canada at age 18, acquiring citizenship through his Canadian-born mother.\n",
        " Two years later, he matriculated at Queen's University in Kingston, Ontario. Musk later transferred to the\n",
        " University of Pennsylvania, and received bachelor's degrees in economics and physics there.\n",
        " He moved to California in 1995 to attend Stanford University. However, Musk dropped out after two days and,\n",
        " with his brother Kimbal, co-founded online city guide software company Zip2. \"\"\")"
      ],
      "metadata": {
        "id": "ndPvL8I0-Pzd"
      },
      "execution_count": 32,
      "outputs": []
    },
    {
      "cell_type": "code",
      "source": [
        "for token in doc:\n",
        "  print(token.text , \" - \",token.lemma_ , \" - \",token.pos_ , \" - \", token.shape_ , \" - \",token.is_alpha, \" - \",token.is_stop)"
      ],
      "metadata": {
        "colab": {
          "base_uri": "https://localhost:8080/"
        },
        "id": "tEbwaGvyBleS",
        "outputId": "eede3108-6adf-47fc-925d-fe816b64e42c"
      },
      "execution_count": 34,
      "outputs": [
        {
          "output_type": "stream",
          "name": "stdout",
          "text": [
            "   -     -  SPACE  -     -  False  -  False\n",
            "Musk  -  Musk  -  PROPN  -  Xxxx  -  True  -  False\n",
            "was  -  be  -  AUX  -  xxx  -  True  -  True\n",
            "born  -  bear  -  VERB  -  xxxx  -  True  -  False\n",
            "in  -  in  -  ADP  -  xx  -  True  -  True\n",
            "Pretoria  -  Pretoria  -  PROPN  -  Xxxxx  -  True  -  False\n",
            ",  -  ,  -  PUNCT  -  ,  -  False  -  False\n",
            "South  -  South  -  PROPN  -  Xxxxx  -  True  -  False\n",
            "Africa  -  Africa  -  PROPN  -  Xxxxx  -  True  -  False\n",
            ",  -  ,  -  PUNCT  -  ,  -  False  -  False\n",
            "and  -  and  -  CCONJ  -  xxx  -  True  -  True\n",
            "briefly  -  briefly  -  ADV  -  xxxx  -  True  -  False\n",
            "attended  -  attend  -  VERB  -  xxxx  -  True  -  False\n",
            "the  -  the  -  DET  -  xxx  -  True  -  True\n",
            "University  -  University  -  PROPN  -  Xxxxx  -  True  -  False\n",
            "of  -  of  -  ADP  -  xx  -  True  -  True\n",
            "Pretoria  -  Pretoria  -  PROPN  -  Xxxxx  -  True  -  False\n",
            "\n",
            "   -  \n",
            "   -  SPACE  -  \n",
            "   -  False  -  False\n",
            "before  -  before  -  ADP  -  xxxx  -  True  -  True\n",
            "immigrating  -  immigrate  -  VERB  -  xxxx  -  True  -  False\n",
            "to  -  to  -  ADP  -  xx  -  True  -  True\n",
            "Canada  -  Canada  -  PROPN  -  Xxxxx  -  True  -  False\n",
            "at  -  at  -  ADP  -  xx  -  True  -  True\n",
            "age  -  age  -  NOUN  -  xxx  -  True  -  False\n",
            "18  -  18  -  NUM  -  dd  -  False  -  False\n",
            ",  -  ,  -  PUNCT  -  ,  -  False  -  False\n",
            "acquiring  -  acquire  -  VERB  -  xxxx  -  True  -  False\n",
            "citizenship  -  citizenship  -  NOUN  -  xxxx  -  True  -  False\n",
            "through  -  through  -  ADP  -  xxxx  -  True  -  True\n",
            "his  -  his  -  PRON  -  xxx  -  True  -  True\n",
            "Canadian  -  Canadian  -  PROPN  -  Xxxxx  -  True  -  False\n",
            "-  -  -  -  PUNCT  -  -  -  False  -  False\n",
            "born  -  bear  -  VERB  -  xxxx  -  True  -  False\n",
            "mother  -  mother  -  NOUN  -  xxxx  -  True  -  False\n",
            ".  -  .  -  PUNCT  -  .  -  False  -  False\n",
            "\n",
            "   -  \n",
            "   -  SPACE  -  \n",
            "   -  False  -  False\n",
            "Two  -  two  -  NUM  -  Xxx  -  True  -  True\n",
            "years  -  year  -  NOUN  -  xxxx  -  True  -  False\n",
            "later  -  later  -  ADV  -  xxxx  -  True  -  False\n",
            ",  -  ,  -  PUNCT  -  ,  -  False  -  False\n",
            "he  -  he  -  PRON  -  xx  -  True  -  True\n",
            "matriculated  -  matriculate  -  VERB  -  xxxx  -  True  -  False\n",
            "at  -  at  -  ADP  -  xx  -  True  -  True\n",
            "Queen  -  Queen  -  PROPN  -  Xxxxx  -  True  -  False\n",
            "'s  -  's  -  PART  -  'x  -  False  -  True\n",
            "University  -  University  -  PROPN  -  Xxxxx  -  True  -  False\n",
            "in  -  in  -  ADP  -  xx  -  True  -  True\n",
            "Kingston  -  Kingston  -  PROPN  -  Xxxxx  -  True  -  False\n",
            ",  -  ,  -  PUNCT  -  ,  -  False  -  False\n",
            "Ontario  -  Ontario  -  PROPN  -  Xxxxx  -  True  -  False\n",
            ".  -  .  -  PUNCT  -  .  -  False  -  False\n",
            "Musk  -  Musk  -  PROPN  -  Xxxx  -  True  -  False\n",
            "later  -  later  -  ADV  -  xxxx  -  True  -  False\n",
            "transferred  -  transfer  -  VERB  -  xxxx  -  True  -  False\n",
            "to  -  to  -  ADP  -  xx  -  True  -  True\n",
            "the  -  the  -  DET  -  xxx  -  True  -  True\n",
            "\n",
            "   -  \n",
            "   -  SPACE  -  \n",
            "   -  False  -  False\n",
            "University  -  University  -  PROPN  -  Xxxxx  -  True  -  False\n",
            "of  -  of  -  ADP  -  xx  -  True  -  True\n",
            "Pennsylvania  -  Pennsylvania  -  PROPN  -  Xxxxx  -  True  -  False\n",
            ",  -  ,  -  PUNCT  -  ,  -  False  -  False\n",
            "and  -  and  -  CCONJ  -  xxx  -  True  -  True\n",
            "received  -  receive  -  VERB  -  xxxx  -  True  -  False\n",
            "bachelor  -  bachelor  -  NOUN  -  xxxx  -  True  -  False\n",
            "'s  -  's  -  PART  -  'x  -  False  -  True\n",
            "degrees  -  degree  -  NOUN  -  xxxx  -  True  -  False\n",
            "in  -  in  -  ADP  -  xx  -  True  -  True\n",
            "economics  -  economic  -  NOUN  -  xxxx  -  True  -  False\n",
            "and  -  and  -  CCONJ  -  xxx  -  True  -  True\n",
            "physics  -  physics  -  NOUN  -  xxxx  -  True  -  False\n",
            "there  -  there  -  ADV  -  xxxx  -  True  -  True\n",
            ".  -  .  -  PUNCT  -  .  -  False  -  False\n",
            "\n",
            "   -  \n",
            "   -  SPACE  -  \n",
            "   -  False  -  False\n",
            "He  -  he  -  PRON  -  Xx  -  True  -  True\n",
            "moved  -  move  -  VERB  -  xxxx  -  True  -  False\n",
            "to  -  to  -  ADP  -  xx  -  True  -  True\n",
            "California  -  California  -  PROPN  -  Xxxxx  -  True  -  False\n",
            "in  -  in  -  ADP  -  xx  -  True  -  True\n",
            "1995  -  1995  -  NUM  -  dddd  -  False  -  False\n",
            "to  -  to  -  PART  -  xx  -  True  -  True\n",
            "attend  -  attend  -  VERB  -  xxxx  -  True  -  False\n",
            "Stanford  -  Stanford  -  PROPN  -  Xxxxx  -  True  -  False\n",
            "University  -  University  -  PROPN  -  Xxxxx  -  True  -  False\n",
            ".  -  .  -  PUNCT  -  .  -  False  -  False\n",
            "However  -  however  -  ADV  -  Xxxxx  -  True  -  True\n",
            ",  -  ,  -  PUNCT  -  ,  -  False  -  False\n",
            "Musk  -  Musk  -  PROPN  -  Xxxx  -  True  -  False\n",
            "dropped  -  drop  -  VERB  -  xxxx  -  True  -  False\n",
            "out  -  out  -  ADP  -  xxx  -  True  -  True\n",
            "after  -  after  -  ADP  -  xxxx  -  True  -  True\n",
            "two  -  two  -  NUM  -  xxx  -  True  -  True\n",
            "days  -  day  -  NOUN  -  xxxx  -  True  -  False\n",
            "and  -  and  -  CCONJ  -  xxx  -  True  -  True\n",
            ",  -  ,  -  PUNCT  -  ,  -  False  -  False\n",
            "\n",
            "   -  \n",
            "   -  SPACE  -  \n",
            "   -  False  -  False\n",
            "with  -  with  -  ADP  -  xxxx  -  True  -  True\n",
            "his  -  his  -  PRON  -  xxx  -  True  -  True\n",
            "brother  -  brother  -  NOUN  -  xxxx  -  True  -  False\n",
            "Kimbal  -  Kimbal  -  PROPN  -  Xxxxx  -  True  -  False\n",
            ",  -  ,  -  PUNCT  -  ,  -  False  -  False\n",
            "co  -  co  -  VERB  -  xx  -  True  -  False\n",
            "-  -  -  -  VERB  -  -  -  False  -  False\n",
            "founded  -  found  -  VERB  -  xxxx  -  True  -  False\n",
            "online  -  online  -  ADJ  -  xxxx  -  True  -  False\n",
            "city  -  city  -  NOUN  -  xxxx  -  True  -  False\n",
            "guide  -  guide  -  NOUN  -  xxxx  -  True  -  False\n",
            "software  -  software  -  NOUN  -  xxxx  -  True  -  False\n",
            "company  -  company  -  NOUN  -  xxxx  -  True  -  False\n",
            "Zip2  -  zip2  -  NOUN  -  Xxxd  -  False  -  False\n",
            ".  -  .  -  PUNCT  -  .  -  False  -  False\n"
          ]
        }
      ]
    },
    {
      "cell_type": "code",
      "source": [],
      "metadata": {
        "id": "AX2fOJaADSfW"
      },
      "execution_count": 34,
      "outputs": []
    },
    {
      "cell_type": "code",
      "source": [],
      "metadata": {
        "id": "x3JkPS7TG3nm"
      },
      "execution_count": null,
      "outputs": []
    }
  ]
}