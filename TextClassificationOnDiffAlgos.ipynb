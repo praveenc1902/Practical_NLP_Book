{
  "nbformat": 4,
  "nbformat_minor": 0,
  "metadata": {
    "colab": {
      "provenance": []
    },
    "kernelspec": {
      "name": "python3",
      "display_name": "Python 3"
    },
    "language_info": {
      "name": "python"
    }
  },
  "cells": [
    {
      "cell_type": "code",
      "execution_count": 1,
      "metadata": {
        "id": "K_Rp1a3JXqoL"
      },
      "outputs": [],
      "source": [
        "import numpy as np\n",
        "import pandas as pd\n",
        "import matplotlib.pyplot as plt\n"
      ]
    },
    {
      "cell_type": "code",
      "source": [
        "from sklearn.feature_extraction.text import CountVectorizer\n",
        "from sklearn.feature_extraction import _stop_words\n",
        "from sklearn.naive_bayes import MultinomialNB\n",
        "from sklearn.linear_model import LogisticRegression\n",
        "from sklearn.svm import LinearSVC\n",
        "from sklearn.metrics import accuracy_score\n",
        "\n",
        "# from sklearn.model_selection import train_test_split\n",
        "from sklearn.metrics import confusion_matrix\n",
        "from sklearn import metrics"
      ],
      "metadata": {
        "id": "eyCn0DPUYOrI"
      },
      "execution_count": 4,
      "outputs": []
    },
    {
      "cell_type": "code",
      "source": [
        "import string"
      ],
      "metadata": {
        "id": "1mkO_LxHbS2y"
      },
      "execution_count": 15,
      "outputs": []
    },
    {
      "cell_type": "code",
      "source": [
        "try:\n",
        "    from google.colab import files\n",
        "    !wget -P DATAPATH https://raw.githubusercontent.com/practical-nlp/practical-nlp/master/Ch4/Data/Full-Economic-News-DFE-839861.csv\n",
        "    !ls -lah DATAPATH\n",
        "    our_data = pd.read_csv(\"DATAPATH/Full-Economic-News-DFE-839861.csv\" , encoding = \"ISO-8859-1\" )\n",
        "\n",
        "except ModuleNotFoundError:\n",
        "    our_data = pd.read_csv(\"Data/Full-Economic-News-DFE-839861.csv\" , encoding = \"ISO-8859-1\" )"
      ],
      "metadata": {
        "colab": {
          "base_uri": "https://localhost:8080/"
        },
        "id": "HvyuZC-OY4q5",
        "outputId": "5eefd7b1-15b1-48b6-f705-3b9e4c17283c"
      },
      "execution_count": 5,
      "outputs": [
        {
          "output_type": "stream",
          "name": "stdout",
          "text": [
            "--2023-12-05 23:51:55--  https://raw.githubusercontent.com/practical-nlp/practical-nlp/master/Ch4/Data/Full-Economic-News-DFE-839861.csv\n",
            "Resolving raw.githubusercontent.com (raw.githubusercontent.com)... 185.199.108.133, 185.199.109.133, 185.199.110.133, ...\n",
            "Connecting to raw.githubusercontent.com (raw.githubusercontent.com)|185.199.108.133|:443... connected.\n",
            "HTTP request sent, awaiting response... 200 OK\n",
            "Length: 12383529 (12M) [text/plain]\n",
            "Saving to: ‘DATAPATH/Full-Economic-News-DFE-839861.csv’\n",
            "\n",
            "Full-Economic-News- 100%[===================>]  11.81M  --.-KB/s    in 0.1s    \n",
            "\n",
            "2023-12-05 23:51:55 (84.7 MB/s) - ‘DATAPATH/Full-Economic-News-DFE-839861.csv’ saved [12383529/12383529]\n",
            "\n",
            "total 12M\n",
            "drwxr-xr-x 2 root root 4.0K Dec  5 23:51 .\n",
            "drwxr-xr-x 1 root root 4.0K Dec  5 23:51 ..\n",
            "-rw-r--r-- 1 root root  12M Dec  5 23:51 Full-Economic-News-DFE-839861.csv\n"
          ]
        }
      ]
    },
    {
      "cell_type": "code",
      "source": [
        "our_data.head()"
      ],
      "metadata": {
        "colab": {
          "base_uri": "https://localhost:8080/",
          "height": 573
        },
        "id": "5FPYAqoOZS-F",
        "outputId": "7f2fa64a-6106-4159-ab90-6f64606b9811"
      },
      "execution_count": 6,
      "outputs": [
        {
          "output_type": "execute_result",
          "data": {
            "text/plain": [
              "    _unit_id  _golden _unit_state  _trusted_judgments _last_judgment_at  \\\n",
              "0  842613455    False   finalized                   3     12/5/15 17:48   \n",
              "1  842613456    False   finalized                   3     12/5/15 16:54   \n",
              "2  842613457    False   finalized                   3      12/5/15 1:59   \n",
              "3  842613458    False   finalized                   3      12/5/15 2:19   \n",
              "4  842613459    False   finalized                   3     12/5/15 17:48   \n",
              "\n",
              "   positivity  positivity:confidence relevance  relevance:confidence  \\\n",
              "0         3.0                 0.6400       yes                 0.640   \n",
              "1         NaN                    NaN        no                 1.000   \n",
              "2         NaN                    NaN        no                 1.000   \n",
              "3         NaN                 0.0000        no                 0.675   \n",
              "4         3.0                 0.3257       yes                 0.640   \n",
              "\n",
              "       articleid      date                                           headline  \\\n",
              "0  wsj_398217788   8/14/91              Yields on CDs Fell in the Latest Week   \n",
              "1  wsj_399019502   8/21/07  The Morning Brief: White House Seeks to Limit ...   \n",
              "2  wsj_398284048  11/14/91  Banking Bill Negotiators Set Compromise --- Pl...   \n",
              "3  wsj_397959018   6/16/86  Manager's Journal: Sniffing Out Drug Abusers I...   \n",
              "4  wsj_398838054   10/4/02  Currency Trading: Dollar Remains in Tight Rang...   \n",
              "\n",
              "   positivity_gold  relevance_gold  \\\n",
              "0              NaN             NaN   \n",
              "1              NaN             NaN   \n",
              "2              NaN             NaN   \n",
              "3              NaN             NaN   \n",
              "4              NaN             NaN   \n",
              "\n",
              "                                                text  \n",
              "0  NEW YORK -- Yields on most certificates of dep...  \n",
              "1  The Wall Street Journal Online</br></br>The Mo...  \n",
              "2  WASHINGTON -- In an effort to achieve banking ...  \n",
              "3  The statistics on the enormous costs of employ...  \n",
              "4  NEW YORK -- Indecision marked the dollar's ton...  "
            ],
            "text/html": [
              "\n",
              "  <div id=\"df-5424e743-e84e-45e8-a64a-c0aa9b4263fd\" class=\"colab-df-container\">\n",
              "    <div>\n",
              "<style scoped>\n",
              "    .dataframe tbody tr th:only-of-type {\n",
              "        vertical-align: middle;\n",
              "    }\n",
              "\n",
              "    .dataframe tbody tr th {\n",
              "        vertical-align: top;\n",
              "    }\n",
              "\n",
              "    .dataframe thead th {\n",
              "        text-align: right;\n",
              "    }\n",
              "</style>\n",
              "<table border=\"1\" class=\"dataframe\">\n",
              "  <thead>\n",
              "    <tr style=\"text-align: right;\">\n",
              "      <th></th>\n",
              "      <th>_unit_id</th>\n",
              "      <th>_golden</th>\n",
              "      <th>_unit_state</th>\n",
              "      <th>_trusted_judgments</th>\n",
              "      <th>_last_judgment_at</th>\n",
              "      <th>positivity</th>\n",
              "      <th>positivity:confidence</th>\n",
              "      <th>relevance</th>\n",
              "      <th>relevance:confidence</th>\n",
              "      <th>articleid</th>\n",
              "      <th>date</th>\n",
              "      <th>headline</th>\n",
              "      <th>positivity_gold</th>\n",
              "      <th>relevance_gold</th>\n",
              "      <th>text</th>\n",
              "    </tr>\n",
              "  </thead>\n",
              "  <tbody>\n",
              "    <tr>\n",
              "      <th>0</th>\n",
              "      <td>842613455</td>\n",
              "      <td>False</td>\n",
              "      <td>finalized</td>\n",
              "      <td>3</td>\n",
              "      <td>12/5/15 17:48</td>\n",
              "      <td>3.0</td>\n",
              "      <td>0.6400</td>\n",
              "      <td>yes</td>\n",
              "      <td>0.640</td>\n",
              "      <td>wsj_398217788</td>\n",
              "      <td>8/14/91</td>\n",
              "      <td>Yields on CDs Fell in the Latest Week</td>\n",
              "      <td>NaN</td>\n",
              "      <td>NaN</td>\n",
              "      <td>NEW YORK -- Yields on most certificates of dep...</td>\n",
              "    </tr>\n",
              "    <tr>\n",
              "      <th>1</th>\n",
              "      <td>842613456</td>\n",
              "      <td>False</td>\n",
              "      <td>finalized</td>\n",
              "      <td>3</td>\n",
              "      <td>12/5/15 16:54</td>\n",
              "      <td>NaN</td>\n",
              "      <td>NaN</td>\n",
              "      <td>no</td>\n",
              "      <td>1.000</td>\n",
              "      <td>wsj_399019502</td>\n",
              "      <td>8/21/07</td>\n",
              "      <td>The Morning Brief: White House Seeks to Limit ...</td>\n",
              "      <td>NaN</td>\n",
              "      <td>NaN</td>\n",
              "      <td>The Wall Street Journal Online&lt;/br&gt;&lt;/br&gt;The Mo...</td>\n",
              "    </tr>\n",
              "    <tr>\n",
              "      <th>2</th>\n",
              "      <td>842613457</td>\n",
              "      <td>False</td>\n",
              "      <td>finalized</td>\n",
              "      <td>3</td>\n",
              "      <td>12/5/15 1:59</td>\n",
              "      <td>NaN</td>\n",
              "      <td>NaN</td>\n",
              "      <td>no</td>\n",
              "      <td>1.000</td>\n",
              "      <td>wsj_398284048</td>\n",
              "      <td>11/14/91</td>\n",
              "      <td>Banking Bill Negotiators Set Compromise --- Pl...</td>\n",
              "      <td>NaN</td>\n",
              "      <td>NaN</td>\n",
              "      <td>WASHINGTON -- In an effort to achieve banking ...</td>\n",
              "    </tr>\n",
              "    <tr>\n",
              "      <th>3</th>\n",
              "      <td>842613458</td>\n",
              "      <td>False</td>\n",
              "      <td>finalized</td>\n",
              "      <td>3</td>\n",
              "      <td>12/5/15 2:19</td>\n",
              "      <td>NaN</td>\n",
              "      <td>0.0000</td>\n",
              "      <td>no</td>\n",
              "      <td>0.675</td>\n",
              "      <td>wsj_397959018</td>\n",
              "      <td>6/16/86</td>\n",
              "      <td>Manager's Journal: Sniffing Out Drug Abusers I...</td>\n",
              "      <td>NaN</td>\n",
              "      <td>NaN</td>\n",
              "      <td>The statistics on the enormous costs of employ...</td>\n",
              "    </tr>\n",
              "    <tr>\n",
              "      <th>4</th>\n",
              "      <td>842613459</td>\n",
              "      <td>False</td>\n",
              "      <td>finalized</td>\n",
              "      <td>3</td>\n",
              "      <td>12/5/15 17:48</td>\n",
              "      <td>3.0</td>\n",
              "      <td>0.3257</td>\n",
              "      <td>yes</td>\n",
              "      <td>0.640</td>\n",
              "      <td>wsj_398838054</td>\n",
              "      <td>10/4/02</td>\n",
              "      <td>Currency Trading: Dollar Remains in Tight Rang...</td>\n",
              "      <td>NaN</td>\n",
              "      <td>NaN</td>\n",
              "      <td>NEW YORK -- Indecision marked the dollar's ton...</td>\n",
              "    </tr>\n",
              "  </tbody>\n",
              "</table>\n",
              "</div>\n",
              "    <div class=\"colab-df-buttons\">\n",
              "\n",
              "  <div class=\"colab-df-container\">\n",
              "    <button class=\"colab-df-convert\" onclick=\"convertToInteractive('df-5424e743-e84e-45e8-a64a-c0aa9b4263fd')\"\n",
              "            title=\"Convert this dataframe to an interactive table.\"\n",
              "            style=\"display:none;\">\n",
              "\n",
              "  <svg xmlns=\"http://www.w3.org/2000/svg\" height=\"24px\" viewBox=\"0 -960 960 960\">\n",
              "    <path d=\"M120-120v-720h720v720H120Zm60-500h600v-160H180v160Zm220 220h160v-160H400v160Zm0 220h160v-160H400v160ZM180-400h160v-160H180v160Zm440 0h160v-160H620v160ZM180-180h160v-160H180v160Zm440 0h160v-160H620v160Z\"/>\n",
              "  </svg>\n",
              "    </button>\n",
              "\n",
              "  <style>\n",
              "    .colab-df-container {\n",
              "      display:flex;\n",
              "      gap: 12px;\n",
              "    }\n",
              "\n",
              "    .colab-df-convert {\n",
              "      background-color: #E8F0FE;\n",
              "      border: none;\n",
              "      border-radius: 50%;\n",
              "      cursor: pointer;\n",
              "      display: none;\n",
              "      fill: #1967D2;\n",
              "      height: 32px;\n",
              "      padding: 0 0 0 0;\n",
              "      width: 32px;\n",
              "    }\n",
              "\n",
              "    .colab-df-convert:hover {\n",
              "      background-color: #E2EBFA;\n",
              "      box-shadow: 0px 1px 2px rgba(60, 64, 67, 0.3), 0px 1px 3px 1px rgba(60, 64, 67, 0.15);\n",
              "      fill: #174EA6;\n",
              "    }\n",
              "\n",
              "    .colab-df-buttons div {\n",
              "      margin-bottom: 4px;\n",
              "    }\n",
              "\n",
              "    [theme=dark] .colab-df-convert {\n",
              "      background-color: #3B4455;\n",
              "      fill: #D2E3FC;\n",
              "    }\n",
              "\n",
              "    [theme=dark] .colab-df-convert:hover {\n",
              "      background-color: #434B5C;\n",
              "      box-shadow: 0px 1px 3px 1px rgba(0, 0, 0, 0.15);\n",
              "      filter: drop-shadow(0px 1px 2px rgba(0, 0, 0, 0.3));\n",
              "      fill: #FFFFFF;\n",
              "    }\n",
              "  </style>\n",
              "\n",
              "    <script>\n",
              "      const buttonEl =\n",
              "        document.querySelector('#df-5424e743-e84e-45e8-a64a-c0aa9b4263fd button.colab-df-convert');\n",
              "      buttonEl.style.display =\n",
              "        google.colab.kernel.accessAllowed ? 'block' : 'none';\n",
              "\n",
              "      async function convertToInteractive(key) {\n",
              "        const element = document.querySelector('#df-5424e743-e84e-45e8-a64a-c0aa9b4263fd');\n",
              "        const dataTable =\n",
              "          await google.colab.kernel.invokeFunction('convertToInteractive',\n",
              "                                                    [key], {});\n",
              "        if (!dataTable) return;\n",
              "\n",
              "        const docLinkHtml = 'Like what you see? Visit the ' +\n",
              "          '<a target=\"_blank\" href=https://colab.research.google.com/notebooks/data_table.ipynb>data table notebook</a>'\n",
              "          + ' to learn more about interactive tables.';\n",
              "        element.innerHTML = '';\n",
              "        dataTable['output_type'] = 'display_data';\n",
              "        await google.colab.output.renderOutput(dataTable, element);\n",
              "        const docLink = document.createElement('div');\n",
              "        docLink.innerHTML = docLinkHtml;\n",
              "        element.appendChild(docLink);\n",
              "      }\n",
              "    </script>\n",
              "  </div>\n",
              "\n",
              "\n",
              "<div id=\"df-c644965b-c001-44c4-a3d0-c29be517e6d2\">\n",
              "  <button class=\"colab-df-quickchart\" onclick=\"quickchart('df-c644965b-c001-44c4-a3d0-c29be517e6d2')\"\n",
              "            title=\"Suggest charts\"\n",
              "            style=\"display:none;\">\n",
              "\n",
              "<svg xmlns=\"http://www.w3.org/2000/svg\" height=\"24px\"viewBox=\"0 0 24 24\"\n",
              "     width=\"24px\">\n",
              "    <g>\n",
              "        <path d=\"M19 3H5c-1.1 0-2 .9-2 2v14c0 1.1.9 2 2 2h14c1.1 0 2-.9 2-2V5c0-1.1-.9-2-2-2zM9 17H7v-7h2v7zm4 0h-2V7h2v10zm4 0h-2v-4h2v4z\"/>\n",
              "    </g>\n",
              "</svg>\n",
              "  </button>\n",
              "\n",
              "<style>\n",
              "  .colab-df-quickchart {\n",
              "      --bg-color: #E8F0FE;\n",
              "      --fill-color: #1967D2;\n",
              "      --hover-bg-color: #E2EBFA;\n",
              "      --hover-fill-color: #174EA6;\n",
              "      --disabled-fill-color: #AAA;\n",
              "      --disabled-bg-color: #DDD;\n",
              "  }\n",
              "\n",
              "  [theme=dark] .colab-df-quickchart {\n",
              "      --bg-color: #3B4455;\n",
              "      --fill-color: #D2E3FC;\n",
              "      --hover-bg-color: #434B5C;\n",
              "      --hover-fill-color: #FFFFFF;\n",
              "      --disabled-bg-color: #3B4455;\n",
              "      --disabled-fill-color: #666;\n",
              "  }\n",
              "\n",
              "  .colab-df-quickchart {\n",
              "    background-color: var(--bg-color);\n",
              "    border: none;\n",
              "    border-radius: 50%;\n",
              "    cursor: pointer;\n",
              "    display: none;\n",
              "    fill: var(--fill-color);\n",
              "    height: 32px;\n",
              "    padding: 0;\n",
              "    width: 32px;\n",
              "  }\n",
              "\n",
              "  .colab-df-quickchart:hover {\n",
              "    background-color: var(--hover-bg-color);\n",
              "    box-shadow: 0 1px 2px rgba(60, 64, 67, 0.3), 0 1px 3px 1px rgba(60, 64, 67, 0.15);\n",
              "    fill: var(--button-hover-fill-color);\n",
              "  }\n",
              "\n",
              "  .colab-df-quickchart-complete:disabled,\n",
              "  .colab-df-quickchart-complete:disabled:hover {\n",
              "    background-color: var(--disabled-bg-color);\n",
              "    fill: var(--disabled-fill-color);\n",
              "    box-shadow: none;\n",
              "  }\n",
              "\n",
              "  .colab-df-spinner {\n",
              "    border: 2px solid var(--fill-color);\n",
              "    border-color: transparent;\n",
              "    border-bottom-color: var(--fill-color);\n",
              "    animation:\n",
              "      spin 1s steps(1) infinite;\n",
              "  }\n",
              "\n",
              "  @keyframes spin {\n",
              "    0% {\n",
              "      border-color: transparent;\n",
              "      border-bottom-color: var(--fill-color);\n",
              "      border-left-color: var(--fill-color);\n",
              "    }\n",
              "    20% {\n",
              "      border-color: transparent;\n",
              "      border-left-color: var(--fill-color);\n",
              "      border-top-color: var(--fill-color);\n",
              "    }\n",
              "    30% {\n",
              "      border-color: transparent;\n",
              "      border-left-color: var(--fill-color);\n",
              "      border-top-color: var(--fill-color);\n",
              "      border-right-color: var(--fill-color);\n",
              "    }\n",
              "    40% {\n",
              "      border-color: transparent;\n",
              "      border-right-color: var(--fill-color);\n",
              "      border-top-color: var(--fill-color);\n",
              "    }\n",
              "    60% {\n",
              "      border-color: transparent;\n",
              "      border-right-color: var(--fill-color);\n",
              "    }\n",
              "    80% {\n",
              "      border-color: transparent;\n",
              "      border-right-color: var(--fill-color);\n",
              "      border-bottom-color: var(--fill-color);\n",
              "    }\n",
              "    90% {\n",
              "      border-color: transparent;\n",
              "      border-bottom-color: var(--fill-color);\n",
              "    }\n",
              "  }\n",
              "</style>\n",
              "\n",
              "  <script>\n",
              "    async function quickchart(key) {\n",
              "      const quickchartButtonEl =\n",
              "        document.querySelector('#' + key + ' button');\n",
              "      quickchartButtonEl.disabled = true;  // To prevent multiple clicks.\n",
              "      quickchartButtonEl.classList.add('colab-df-spinner');\n",
              "      try {\n",
              "        const charts = await google.colab.kernel.invokeFunction(\n",
              "            'suggestCharts', [key], {});\n",
              "      } catch (error) {\n",
              "        console.error('Error during call to suggestCharts:', error);\n",
              "      }\n",
              "      quickchartButtonEl.classList.remove('colab-df-spinner');\n",
              "      quickchartButtonEl.classList.add('colab-df-quickchart-complete');\n",
              "    }\n",
              "    (() => {\n",
              "      let quickchartButtonEl =\n",
              "        document.querySelector('#df-c644965b-c001-44c4-a3d0-c29be517e6d2 button');\n",
              "      quickchartButtonEl.style.display =\n",
              "        google.colab.kernel.accessAllowed ? 'block' : 'none';\n",
              "    })();\n",
              "  </script>\n",
              "</div>\n",
              "    </div>\n",
              "  </div>\n"
            ]
          },
          "metadata": {},
          "execution_count": 6
        }
      ]
    },
    {
      "cell_type": "code",
      "source": [
        "our_data['relevance'].value_counts()"
      ],
      "metadata": {
        "colab": {
          "base_uri": "https://localhost:8080/"
        },
        "id": "PiWrsSUHZX2Q",
        "outputId": "06d69638-cb1f-4c11-c1c3-997adfdab524"
      },
      "execution_count": 7,
      "outputs": [
        {
          "output_type": "execute_result",
          "data": {
            "text/plain": [
              "no          6571\n",
              "yes         1420\n",
              "not sure       9\n",
              "Name: relevance, dtype: int64"
            ]
          },
          "metadata": {},
          "execution_count": 7
        }
      ]
    },
    {
      "cell_type": "code",
      "source": [
        "our_data = our_data[our_data['relevance'] != 'not sure']"
      ],
      "metadata": {
        "id": "OpH8gRMhZsYj"
      },
      "execution_count": 8,
      "outputs": []
    },
    {
      "cell_type": "code",
      "source": [
        "our_data['relevance'].value_counts()"
      ],
      "metadata": {
        "colab": {
          "base_uri": "https://localhost:8080/"
        },
        "id": "7icUoxKSZ32O",
        "outputId": "4b5595ef-855c-4817-e6f9-0581bf0700ab"
      },
      "execution_count": 9,
      "outputs": [
        {
          "output_type": "execute_result",
          "data": {
            "text/plain": [
              "no     6571\n",
              "yes    1420\n",
              "Name: relevance, dtype: int64"
            ]
          },
          "metadata": {},
          "execution_count": 9
        }
      ]
    },
    {
      "cell_type": "code",
      "source": [
        "our_data['relevance'] = our_data['relevance'].map({'no':0,'yes':1})"
      ],
      "metadata": {
        "id": "VJAhysxlZ63F"
      },
      "execution_count": 11,
      "outputs": []
    },
    {
      "cell_type": "code",
      "source": [
        "our_data['relevance'].value_counts()"
      ],
      "metadata": {
        "colab": {
          "base_uri": "https://localhost:8080/"
        },
        "id": "JuOhZ9omaAqF",
        "outputId": "fa4483cc-7f25-4708-e6ee-b4a8334e7e6a"
      },
      "execution_count": 12,
      "outputs": [
        {
          "output_type": "execute_result",
          "data": {
            "text/plain": [
              "0    6571\n",
              "1    1420\n",
              "Name: relevance, dtype: int64"
            ]
          },
          "metadata": {},
          "execution_count": 12
        }
      ]
    },
    {
      "cell_type": "code",
      "source": [
        "stopwords = _stop_words.ENGLISH_STOP_WORDS\n",
        "print(stopwords)"
      ],
      "metadata": {
        "colab": {
          "base_uri": "https://localhost:8080/"
        },
        "id": "PFie2z1UaI0H",
        "outputId": "50f41597-b6d3-4364-aac6-07f69ff7b06f"
      },
      "execution_count": 13,
      "outputs": [
        {
          "output_type": "stream",
          "name": "stdout",
          "text": [
            "frozenset({'myself', 'besides', 'three', 'seemed', 'herself', 'noone', 'same', 'could', 'down', 'of', 'somehow', 'show', 'sincere', 'all', 'anyway', 'thereafter', 'via', 'a', 'already', 'both', 'fifteen', 'had', 'empty', 'nevertheless', 'fire', 'meanwhile', 'where', 'by', 'whereby', 'these', 'latter', 'upon', 'cannot', 'something', 'move', 'detail', 'once', 'below', 'after', 'five', 'do', 'put', 'whereafter', 'the', 'last', 'under', 'as', 'enough', 'towards', 'done', 'itself', 'across', 'every', 'seeming', 'nine', 'amoungst', 'in', 'be', 'while', 'us', 'go', 'either', 'de', 'ltd', 'with', 'else', 'well', 'onto', 'during', 'sometimes', 'whom', 'how', 'beforehand', 'against', 'also', 'four', 'though', 'wherein', 'should', 'each', 'along', 'part', 'except', 'perhaps', 'twelve', 'this', 'throughout', 'around', 'have', 'yourself', 'not', 'that', 'often', 'first', 'or', 'because', 'within', 'himself', 'from', 'why', 'found', 'hundred', 'thick', 'here', 'is', 'ours', 'two', 're', 'etc', 'nobody', 'they', 'hers', 'somewhere', 'there', 'than', 'serious', 'thereby', 'none', 'give', 'such', 'we', 'always', 'eleven', 'please', 'un', 'her', 'its', 'too', 'our', 'into', 'has', 'six', 'whenever', 'among', 'mine', 'fill', 'whether', 'side', 'one', 'although', 'their', 'yet', 'find', 'now', 'another', 'full', 'others', 'due', 'no', 'themselves', 'without', 'indeed', 'yourselves', 'everything', 'several', 'otherwise', 'per', 'seem', 'until', 'however', 'become', 'becomes', 'whatever', 'since', 'up', 'con', 'amount', 'eight', 'keep', 'moreover', 'anywhere', 'cant', 'i', 'beside', 'above', 'see', 'bill', 'ten', 'almost', 'whence', 'an', 'sixty', 'to', 'anyone', 'mostly', 'only', 'many', 'ie', 'would', 'herein', 'made', 'whose', 'but', 'describe', 'other', 'everyone', 'hereafter', 'thence', 'alone', 'least', 'what', 'he', 'whereupon', 'who', 'seems', 'anyhow', 'whereas', 'few', 'beyond', 'ever', 'so', 'will', 'me', 'much', 'toward', 'next', 'rather', 'for', 'might', 'been', 'am', 'back', 'which', 'still', 'some', 'thus', 'it', 'over', 'must', 'elsewhere', 'his', 'former', 'interest', 'anything', 'was', 'became', 'nothing', 'becoming', 'on', 'less', 'can', 'cry', 'couldnt', 'any', 'are', 'nor', 'system', 'more', 'together', 'were', 'even', 'most', 'you', 'hereupon', 'latterly', 'hasnt', 'thru', 'hereby', 'behind', 'afterwards', 'whoever', 'top', 'twenty', 'whole', 'third', 'being', 'thereupon', 'ourselves', 'amongst', 'them', 'namely', 'call', 'forty', 'off', 'front', 'those', 'at', 'very', 'name', 'when', 'fifty', 'neither', 'your', 'before', 'formerly', 'then', 'never', 'everywhere', 'whither', 'yours', 'further', 'if', 'she', 'take', 'bottom', 'sometime', 'thin', 'out', 'inc', 'mill', 'about', 'hence', 'again', 'may', 'co', 'therefore', 'therein', 'wherever', 'him', 'my', 'someone', 'between', 'own', 'through', 'get', 'and', 'eg', 'nowhere'})\n"
          ]
        }
      ]
    },
    {
      "cell_type": "code",
      "source": [
        "our_data['text'][0]"
      ],
      "metadata": {
        "colab": {
          "base_uri": "https://localhost:8080/",
          "height": 139
        },
        "id": "fT1mEepqaX4s",
        "outputId": "22165faa-f321-4b16-85d7-92d318814a6a"
      },
      "execution_count": 16,
      "outputs": [
        {
          "output_type": "execute_result",
          "data": {
            "text/plain": [
              "'NEW YORK -- Yields on most certificates of deposit offered by major banks dropped more than a tenth of a percentage point in the latest week, reflecting the overall decline in short-term interest rates.</br></br>On small-denomination, or \"consumer,\" CDs sold directly by banks, the average yield on six-month deposits fell to 5.49% from 5.62% in the week ended yesterday, according to an 18-bank survey by Banxquote Money Markets, a Wilmington, Del., information service.</br></br>On three-month \"consumer\" deposits, the average yield sank to 5.29% from 5.42% the week before, according to Banxquote. Two banks in the Banxquote survey, Citibank in New York and CoreStates in Pennsylvania, are paying less than 5% on threemonth small-denomination CDs.</br></br>Declines were somewhat smaller on five-year consumer CDs, which eased to 7.37% from 7.45%, Banxquote said.</br></br>Yields on three-month and six-month Treasury bills sold at Monday\\'s auction plummeted more than a fifth of a percentage point from the previous week, to 5.46% and 5.63%, respectively.'"
            ],
            "application/vnd.google.colaboratory.intrinsic+json": {
              "type": "string"
            }
          },
          "metadata": {},
          "execution_count": 16
        }
      ]
    },
    {
      "cell_type": "code",
      "source": [
        "def cleanup(doc):\n",
        "  doc = doc.replace('</br>',' ')\n",
        "  doc= \"\".join([char for char in doc if char not in string.punctuation and not char.isdigit()])\n",
        "  doc = \" \".join([token for token in doc.split() if token not in stopwords])\n",
        "  return doc"
      ],
      "metadata": {
        "id": "Tzq2dzKlau2F"
      },
      "execution_count": 18,
      "outputs": []
    },
    {
      "cell_type": "code",
      "source": [
        "print(cleanup(\"\"\"\n",
        "NEW YORK -- Yields on most certificates of deposit offered by major banks dropped more than a tenth of a percentage point in the latest week, reflecting the overall decline in short-term interest rates.</br></br>On small-denomination, or \"consumer,\" CDs sold directly by banks, the average yield on six-month deposits fell to 5.49% from 5.62% in the week ended yesterday, according to an 18-bank survey by Banxquote Money Markets, a Wilmington, Del., information service.</br></br>On three-month \"consumer\" deposits, the average yield sank to 5.29% from 5.42% the week before, according to Banxquote. Two banks in the Banxquote survey, Citibank in New York and CoreStates in Pennsylvania, are paying less than 5% on threemonth small-denomination CDs.</br></br>Declines were somewhat smaller on five-year consumer CDs, which eased to 7.37% from 7.45%, Banxquote said.</br></br>Yields on three-month and six-month Treasury bills sold at Monday's auction plummeted more than a fifth of a percentage point from the previous week, to 5.46% and 5.63%, respectively.\n",
        "\"\"\"))"
      ],
      "metadata": {
        "colab": {
          "base_uri": "https://localhost:8080/"
        },
        "id": "f-S7Yf6EdOn6",
        "outputId": "2c052aa6-0ace-45a3-a054-aa93923a17f6"
      },
      "execution_count": 19,
      "outputs": [
        {
          "output_type": "stream",
          "name": "stdout",
          "text": [
            "NEW YORK Yields certificates deposit offered major banks dropped tenth percentage point latest week reflecting overall decline shortterm rates On smalldenomination consumer CDs sold directly banks average yield sixmonth deposits fell week ended yesterday according bank survey Banxquote Money Markets Wilmington Del information service On threemonth consumer deposits average yield sank week according Banxquote Two banks Banxquote survey Citibank New York CoreStates Pennsylvania paying threemonth smalldenomination CDs Declines somewhat smaller fiveyear consumer CDs eased Banxquote said Yields threemonth sixmonth Treasury bills sold Mondays auction plummeted fifth percentage point previous week respectively\n"
          ]
        }
      ]
    },
    {
      "cell_type": "code",
      "source": [
        "from sklearn.model_selection import train_test_split\n",
        "x = our_data.text\n",
        "y = our_data.relevance\n"
      ],
      "metadata": {
        "id": "1RTeHHn_dS4Z"
      },
      "execution_count": 20,
      "outputs": []
    },
    {
      "cell_type": "code",
      "source": [
        "x_train,x_test,y_train,y_test = train_test_split(x,y)"
      ],
      "metadata": {
        "id": "fy-DW21-eSNp"
      },
      "execution_count": 21,
      "outputs": []
    },
    {
      "cell_type": "code",
      "source": [
        "vect = CountVectorizer(preprocessor=cleanup)\n",
        "x_train_dtm = vect.fit_transform(x_train)\n",
        "x_test_dtm = vect.transform(x_test)"
      ],
      "metadata": {
        "id": "6d_jHllYeYP6"
      },
      "execution_count": 22,
      "outputs": []
    },
    {
      "cell_type": "code",
      "source": [
        "nb = MultinomialNB()\n",
        "nb.fit(x_train_dtm,y_train)\n",
        "y_pred = nb.predict(x_test_dtm)"
      ],
      "metadata": {
        "id": "if7Nb57HfGi5"
      },
      "execution_count": 23,
      "outputs": []
    },
    {
      "cell_type": "code",
      "source": [
        "print(\"Accuracy: \", accuracy_score(y_test, y_pred))"
      ],
      "metadata": {
        "colab": {
          "base_uri": "https://localhost:8080/"
        },
        "id": "jiTKpY_vfhSl",
        "outputId": "e74c93c0-d911-4fd2-e126-be19e7268a43"
      },
      "execution_count": 25,
      "outputs": [
        {
          "output_type": "stream",
          "name": "stdout",
          "text": [
            "Accuracy:  0.7717717717717718\n"
          ]
        }
      ]
    },
    {
      "cell_type": "code",
      "source": [
        "from sklearn.linear_model import LogisticRegression\n",
        "log_reg = LogisticRegression(class_weight='balanced')\n",
        "log_reg.fit(x_train_dtm,y_train)\n",
        "y_pred = log_reg.predict(x_test_dtm)\n",
        "print(\"Accuracy: \", accuracy_score(y_test, y_pred))"
      ],
      "metadata": {
        "colab": {
          "base_uri": "https://localhost:8080/"
        },
        "id": "g0xltZHmfmIv",
        "outputId": "a34e0a69-acb5-481a-98f5-db1bf7268d05"
      },
      "execution_count": 28,
      "outputs": [
        {
          "output_type": "stream",
          "name": "stdout",
          "text": [
            "Accuracy:  0.7452452452452453\n"
          ]
        },
        {
          "output_type": "stream",
          "name": "stderr",
          "text": [
            "/usr/local/lib/python3.10/dist-packages/sklearn/linear_model/_logistic.py:458: ConvergenceWarning: lbfgs failed to converge (status=1):\n",
            "STOP: TOTAL NO. of ITERATIONS REACHED LIMIT.\n",
            "\n",
            "Increase the number of iterations (max_iter) or scale the data as shown in:\n",
            "    https://scikit-learn.org/stable/modules/preprocessing.html\n",
            "Please also refer to the documentation for alternative solver options:\n",
            "    https://scikit-learn.org/stable/modules/linear_model.html#logistic-regression\n",
            "  n_iter_i = _check_optimize_result(\n"
          ]
        }
      ]
    },
    {
      "cell_type": "code",
      "source": [],
      "metadata": {
        "id": "cd4cSG0MgI74"
      },
      "execution_count": null,
      "outputs": []
    }
  ]
}